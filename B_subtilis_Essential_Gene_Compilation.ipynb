{
 "cells": [
  {
   "cell_type": "markdown",
   "id": "5ae7b2aa",
   "metadata": {},
   "source": [
    "# NSERC Project: _B. subtilis_ Essential Gene Dataset Assembly\n",
    "Author: __Nashira H. Ridgeway__\n",
    "<br>\n",
    "Created: _Monday, July 7th, 2025_\n",
    "<br>\n",
    "Last Modified: _Monday, July 10th, 2025_\n",
    "\n",
    "This notebook depicts the import and cleaning of various datasets of essential genes for _B. subtilis_, as gathered from various publications. A combined total of 3 datasets included represent different methodologies for determining gene essentiality.<br><br> The methods applied can be split into two basic approaches:\n",
    "<br>\n",
    "__(1)__ - __The targeted deletion of individual genes__, as represented by the Kobayashi _et. al._ 2003 publication and the Koo _et. al._ 2017 publication [1,2].\n",
    "<br>\n",
    "__(3)__ - __Targeted mutagenesis (CRISPRi)__, applied guide RNAs to selectively target every \"essential\" (deemed as essential from Kobayashi _et. al._ 2003) gene for confirmation [3].\n",
    "<br>\n",
    "\n",
    "<br> In addition to formatting, a visualization of the deviations and similarities between each dataset will be compiled through an UpSet Plot. To effectively translate gene identifiers for later experiments, SubtiWiki [4] will be employed. \n",
    "***\n",
    "\n",
    "\n",
    "[1] _K. Kobayashi, S.D. Ehrlich, A. Albertini, G. Amati, K.K. Andersen, M. Arnaud, K. Asai, S. Ashikaga, S. Aymerich, P. Bessieres, F. Boland, S.C. Brignell, S. Bron, K. Bunai, J. Chapuis, L.C. Christiansen, A. Danchin, M. Débarbouillé, E. Dervyn, E. Deuerling, K. Devine, S.K. Devine, O. Dreesen, J. Errington, S. Fillinger, S.J. Foster, Y. Fujita, A. Galizzi, R. Gardan, C. Eschevins, T. Fukushima, K. Haga, C.R. Harwood, M. Hecker, D. Hosoya, M.F. Hullo, H. Kakeshita, D. Karamata, Y. Kasahara, F. Kawamura, K. Koga, P. Koski, R. Kuwana, D. Imamura, M. Ishimaru, S. Ishikawa, I. Ishio, D. Le Coq, A. Masson, C. Mauël, R. Meima, R.P. Mellado, A. Moir, S. Moriya, E. Nagakawa, H. Nanamiya, S. Nakai, P. Nygaard, M. Ogura, T. Ohanan, M. O'Reilly, M. O'Rourke, Z. Pragai, H.M. Pooley, G. Rapoport, J.P. Rawlins, L.A. Rivas, C. Rivolta, A. Sadaie, Y. Sadaie, M. Sarvas, T. Sato, H.H. Saxild, E. Scanlan, W. Schumann, J.F.M.L. Seegers, J. Sekiguchi, A. Sekowska, S.J. Séror, M. Simon, P. Stragier, R. Studer, H. Takamatsu, T. Tanaka, M. Takeuchi, H.B. Thomaides, V. Vagner, J.M. van Dijl, K. Watabe, A. Wipat, H. Yamamoto, M. Yamamoto, Y. Yamamoto, K. Yamane, K. Yata, K. Yoshida, H. Yoshikawa, U. Zuber, & N. Ogasawara, Essential Bacillus subtilis genes, Proc. Natl. Acad. Sci. U.S.A. 100 (8) 4678-4683, https://doi.org/10.1073/pnas.0730515100 (2003)._<br>\n",
    "[2] _Koo, Byoung-Mo, George Kritikos, Jeremiah D. Farelli, Horia Todor, Kenneth Tong, Harvey Kimsey, Ilan Wapinski, et al. “Construction and Analysis of Two Genome-Scale Deletion Libraries for Bacillus Subtilis.” Cell Systems 4, no. 3 (March 22, 2017): 291-305.e7. https://doi.org/10.1016/j.cels.2016.12.013._<br>\n",
    "[3] _Peters JM, Colavin A, Shi H, Czarny TL, Larson MH, Wong S, Hawkins JS, Lu CHS, Koo BM, Marta E, Shiver AL, Whitehead EH, Weissman JS, Brown ED, Qi LS, Huang KC, Gross CA. A Comprehensive, CRISPR-based Functional Analysis of Essential Genes in Bacteria. Cell. 2016 Jun 2;165(6):1493-1506. doi: 10.1016/j.cell.2016.05.003. Epub 2016 May 26. PMID: 27238023; PMCID: PMC4894308._<br>\n",
    "[4] _Elfmann, Christoph, Vincenz Dumann, Tim van den Berg, and Jörg Stülke. “A New Framework for SubtiWiki, the Database for the Model Organism Bacillus Subtilis.” Nucleic Acids Research 53, no. D1 (January 6, 2025): D864–70. https://doi.org/10.1093/nar/gkae957._<br>"
   ]
  },
  {
   "cell_type": "code",
   "execution_count": 1,
   "id": "a1dfbc00",
   "metadata": {},
   "outputs": [],
   "source": [
    "# Import relevant packages\n",
    "import pandas as pd\n",
    "import numpy as np\n",
    "import itertools\n",
    "from upsetplot import plot\n",
    "from matplotlib import pyplot\n",
    "\n",
    "import warnings\n",
    "warnings.simplefilter(action='ignore', category=FutureWarning)"
   ]
  },
  {
   "cell_type": "markdown",
   "id": "5c41e652",
   "metadata": {},
   "source": [
    "### Format Data for Proper Comparison\n",
    "<br>\n",
    "Each of our datasets are obtained from differing publications and as a result contain a variety of symbols for labelling and formatting. In this first step, we need to obtain consistency so we can effectively compare the data represented by each approach."
   ]
  },
  {
   "cell_type": "code",
   "execution_count": 18,
   "id": "b4f10e96",
   "metadata": {},
   "outputs": [],
   "source": [
    "#### IMPORT #####\n",
    "# Import the associated datasets\n",
    "k_ess = pd.read_csv('Kobayashi_2003_B_Subtilis_Essential.txt', sep='\\t')\n",
    "k_ns = pd.read_csv('Kobayashi_2003_B_Subtilis_NonEssential.txt', sep='\\t')\n",
    "\n",
    "koo_ess = pd.read_csv('Koo_2017_Essential_Genes.csv')\n",
    "koo_erm = pd.read_csv('Koo_2017_ErmR_Library.csv').drop(columns=['Unnamed: 3', 'Unnamed: 4'])\n",
    "koo_kan = pd.read_csv('Koo_2017_KanR_Library.csv').drop(columns=['Unnamed: 3', 'Unnamed: 4'])\n",
    "\n",
    "peters_ess = pd.read_csv('Peters_2016_Essential_Gene_Confirmations_CRISPR_B_Subtilis.csv')\n",
    "\n",
    "\n",
    "# Import the subtiwiki list for ID translation\n",
    "sw = pd.read_csv('SubtiWiki_BS_ID_to_Uniprot_IDs.csv')"
   ]
  },
  {
   "cell_type": "markdown",
   "id": "dd824c12",
   "metadata": {},
   "source": [
    "## Formatting\n",
    "__Kobayashi:__ The Kobayashi datasets just have gene names -- need to isolate the BSU IDs and Uniprot IDs from these. <br>\n",
    "__Koo:__ For the Koo datasets, BSU IDs are already there, but we need to add in Uniprot IDs and combine the datasets to get one list, then apply the essential gene set to find the nonessential genes. <br>\n",
    "__Peters:__ The Peters dataset should use the cleaned Kobayashi dataset for reference (as it is based on that)-- use BSU to isolate within the dataset. <br>"
   ]
  },
  {
   "cell_type": "code",
   "execution_count": 403,
   "id": "3c841019",
   "metadata": {},
   "outputs": [
    {
     "data": {
      "text/html": [
       "<div>\n",
       "<style scoped>\n",
       "    .dataframe tbody tr th:only-of-type {\n",
       "        vertical-align: middle;\n",
       "    }\n",
       "\n",
       "    .dataframe tbody tr th {\n",
       "        vertical-align: top;\n",
       "    }\n",
       "\n",
       "    .dataframe thead th {\n",
       "        text-align: right;\n",
       "    }\n",
       "</style>\n",
       "<table border=\"1\" class=\"dataframe\">\n",
       "  <thead>\n",
       "    <tr style=\"text-align: right;\">\n",
       "      <th></th>\n",
       "      <th>Gene</th>\n",
       "      <th>Product</th>\n",
       "    </tr>\n",
       "  </thead>\n",
       "  <tbody>\n",
       "    <tr>\n",
       "      <th>0</th>\n",
       "      <td>acpA</td>\n",
       "      <td>acyl carrier protein</td>\n",
       "    </tr>\n",
       "    <tr>\n",
       "      <th>1</th>\n",
       "      <td>alaS</td>\n",
       "      <td>alanyl-tRNA synthetase</td>\n",
       "    </tr>\n",
       "    <tr>\n",
       "      <th>2</th>\n",
       "      <td>argS</td>\n",
       "      <td>arginyl-tRNA synthetase</td>\n",
       "    </tr>\n",
       "    <tr>\n",
       "      <th>3</th>\n",
       "      <td>asnS</td>\n",
       "      <td>asparaginyl-tRNA synthetase</td>\n",
       "    </tr>\n",
       "    <tr>\n",
       "      <th>4</th>\n",
       "      <td>aspS</td>\n",
       "      <td>aspartyl-tRNA synthetase</td>\n",
       "    </tr>\n",
       "    <tr>\n",
       "      <th>...</th>\n",
       "      <td>...</td>\n",
       "      <td>...</td>\n",
       "    </tr>\n",
       "    <tr>\n",
       "      <th>74</th>\n",
       "      <td>rpsU</td>\n",
       "      <td>30S ribosomal protein S21</td>\n",
       "    </tr>\n",
       "    <tr>\n",
       "      <th>75</th>\n",
       "      <td>serS</td>\n",
       "      <td>seryl-tRNA synthetase</td>\n",
       "    </tr>\n",
       "    <tr>\n",
       "      <th>76</th>\n",
       "      <td>ssbA</td>\n",
       "      <td>single-strand binding protein</td>\n",
       "    </tr>\n",
       "    <tr>\n",
       "      <th>77</th>\n",
       "      <td>trpS</td>\n",
       "      <td>tryptophanyl-tRNA synthetase</td>\n",
       "    </tr>\n",
       "    <tr>\n",
       "      <th>78</th>\n",
       "      <td>valS</td>\n",
       "      <td>valyl-tRNA synthetase</td>\n",
       "    </tr>\n",
       "  </tbody>\n",
       "</table>\n",
       "<p>79 rows × 2 columns</p>\n",
       "</div>"
      ],
      "text/plain": [
       "    Gene                        Product\n",
       "0   acpA           acyl carrier protein\n",
       "1   alaS         alanyl-tRNA synthetase\n",
       "2   argS        arginyl-tRNA synthetase\n",
       "3   asnS    asparaginyl-tRNA synthetase\n",
       "4   aspS       aspartyl-tRNA synthetase\n",
       "..   ...                            ...\n",
       "74  rpsU      30S ribosomal protein S21\n",
       "75  serS          seryl-tRNA synthetase\n",
       "76  ssbA  single-strand binding protein\n",
       "77  trpS   tryptophanyl-tRNA synthetase\n",
       "78  valS          valyl-tRNA synthetase\n",
       "\n",
       "[79 rows x 2 columns]"
      ]
     },
     "execution_count": 403,
     "metadata": {},
     "output_type": "execute_result"
    }
   ],
   "source": [
    "k_ess"
   ]
  },
  {
   "cell_type": "code",
   "execution_count": null,
   "id": "8a467e68",
   "metadata": {},
   "outputs": [],
   "source": [
    "#### FORMAT THE KOBAYASHI SET ####\n",
    "# Note: There were changes from the original gene names to those in the SubtiWiki list, so we will rename them within the kobayashi set. \n",
    "# Specifically: ssb -> ssbA in k_ess, and amyD -> melD, pheB -> thrR, xsa -> abf2, ytmN -> tcyN in k_ns\n",
    "#k_ess.loc[k_ess['Gene'] == 'ssb', 'Gene'] = 'ssbA'\n",
    "#k_ns.loc[k_ns['Gene'] == 'amyD', 'Gene'] = 'melD'\n",
    "#k_ns.loc[k_ns['Gene'] == 'pheB', 'Gene'] = 'thrR'\n",
    "#k_ns.loc[k_ns['Gene'] == 'xsa', 'Gene'] = 'abf2'\n",
    "#k_ns.loc[k_ns['Gene'] == 'ytmN', 'Gene'] = 'tcyN'\n",
    "\n",
    "searchset = sw[['name', 'outlinks.subtilist', 'outlinks.uniprot']].rename(columns={'name':'Gene', 'outlinks.subtilist':'BG_ID', 'outlinks.uniprot':'Uniprot_ID'})\n",
    "\n",
    "#k_ess_ann = pd.merge(k_ess, searchset, how='left', on='Gene')\n",
    "#k_ns_ann = pd.merge(k_ns, searchset, how='left', on='Gene')\n"
   ]
  },
  {
   "cell_type": "code",
   "execution_count": null,
   "id": "c017a4a4",
   "metadata": {},
   "outputs": [],
   "source": [
    "#### THE KOBAYASHI SET REDO ####\n",
    "# Initial dataset was obtained from the '03 paper, but it only had the newly identified/predicted essential genes. Downloaded full set from the http://bacillus.genome.jp website\n",
    "# using the wayback machine, manually downloaded each page using inspect element to get the full list of essential and non-essential genes.\n",
    "kb = pd.read_csv('Kobayashi_2003_B_Subtilis_Essential_and_NonEssential.csv')"
   ]
  },
  {
   "cell_type": "code",
   "execution_count": null,
   "id": "3139edd7",
   "metadata": {},
   "outputs": [],
   "source": [
    "# Isolate essential and nonessential genes\n",
    "kb['Essentiality'] = 'no'\n",
    "kb.loc[kb['TW'] == 'yes', 'Essentiality'] = 'yes'\n",
    "kb.loc[kb['TW'] == 'Yes', 'Essentiality'] = 'yes'\n",
    "kb.loc[kb['PW'] == 'yes', 'Essentiality'] = 'yes'\n",
    "kb.loc[kb['PW'] == 'Yes', 'Essentiality'] = 'yes'\n",
    "kb.loc[kb['Prediction'] == 'yes', 'Essentiality'] = 'yes'\n",
    "kb.loc[kb['Prediction'] == 'Yes', 'Essentiality'] = 'yes'\n",
    "\n",
    "kb_ess = kb[kb['Essentiality'] == 'yes'][['BG_ID', 'Gene', 'Synonym']]\n",
    "kb_ns = kb[kb['Essentiality'] == 'no'][['BG_ID', 'Gene', 'Synonym']]\n",
    "\n",
    "# Now annotate with the subtiwiki list\n",
    "kb_ess_t = pd.merge(kb_ess, searchset, how='left', on='Gene', indicator=True)\n",
    "kb_ns_t = pd.merge(kb_ns, searchset, how='left', on='Gene', indicator=True)"
   ]
  },
  {
   "cell_type": "code",
   "execution_count": 230,
   "id": "bd51a335",
   "metadata": {},
   "outputs": [],
   "source": [
    "kb_ess_missing = kb_ess_t[kb_ess_t['_merge'] == 'left_only']\n",
    "kb_ns_missing = kb_ns_t[kb_ns_t['_merge'] == 'left_only']"
   ]
  },
  {
   "cell_type": "code",
   "execution_count": 231,
   "id": "8dbf92bb",
   "metadata": {},
   "outputs": [],
   "source": [
    "# Either in the synonyms for the outlinks.expression_browser of the sw set -- clean this up\n",
    "fixset = sw[['name', 'synonyms', 'outlinks.expression_browser']].rename(columns={'name':'Gene_Name', 'outlinks.expression_browser':'other_synonym'})\n",
    "\n",
    "# Find the missing genes by the synonyms\n",
    "for h, r in kb_ess_missing.iterrows():\n",
    "    g = r['Gene']\n",
    "\n",
    "    if fixset['synonyms'].str.contains(g).any():\n",
    "        kb_ess.loc[kb_ess['Gene'] == g, 'Gene'] = r['Gene'] = fixset[fixset['synonyms'].str.contains(g, na=False)]['Gene_Name'].values[0]\n",
    "    \n",
    "    if fixset['other_synonym'].str.contains(g).any():\n",
    "        kb_ess.loc[kb_ess['Gene'] == g, 'Gene'] = r['Gene'] = fixset[fixset['other_synonym'].str.contains(g, na=False)]['Gene_Name'].values[0]\n",
    "\n",
    "# Find the missing genes by the synonyms\n",
    "for h, r in kb_ns_missing.iterrows():\n",
    "    g = r['Gene']\n",
    "\n",
    "    if fixset['synonyms'].str.contains(g).any():\n",
    "        kb_ns.loc[kb_ns['Gene'] == g, 'Gene'] = r['Gene'] = fixset[fixset['synonyms'].str.contains(g, na=False)]['Gene_Name'].values[0]\n",
    "    \n",
    "    if fixset['other_synonym'].str.contains(g).any():\n",
    "        kb_ns.loc[kb_ns['Gene'] == g, 'Gene'] = r['Gene'] = fixset[fixset['other_synonym'].str.contains(g, na=False)]['Gene_Name'].values[0]"
   ]
  },
  {
   "cell_type": "code",
   "execution_count": 236,
   "id": "3ab426c6",
   "metadata": {},
   "outputs": [],
   "source": [
    "kb_ess_t1 = pd.merge(kb_ess, searchset, how='left', on='Gene')\n",
    "kb_ns_t1 = pd.merge(kb_ns, searchset, how='left', on='Gene') # 33 still missing in this set-- assuming they're no longer genes "
   ]
  },
  {
   "cell_type": "code",
   "execution_count": 99,
   "id": "aa3052aa",
   "metadata": {},
   "outputs": [],
   "source": [
    "#### FORMAT THE KOO SET ####\n",
    "koo_ess_ann = koo_ess[['locus tag', 'gene']].rename(columns={'locus tag':'BSU_ID', 'gene':'Gene'}).dropna()\n",
    "koo_ess_ann.loc[koo_ess_ann['Gene'].str.contains(' '), 'Gene'] = koo_ess_ann[koo_ess_ann['Gene'].str.contains(' ')]['Gene'].str.split(' ', expand=True)[0]\n",
    "\n",
    "# Some still missing -- manually annotate these (removed as this'll throw an error-- but completed manually)\n",
    "#koo_ess_ann = pd.merge(koo_ess_ann, searchset, how='left', on='Gene', indicator=True)\n",
    "#koo_ess_ann[koo_ess_ann['_merge'] != 'both'].to_csv('Koo_Missing_Genes_for_Manual_Annotation.csv')\n",
    "koo_ess_adj = pd.read_csv('Koo_Missing_Genes_Manually_Annotated.csv')\n",
    "\n",
    "for h, r in koo_ess_adj.iterrows():\n",
    "    g = r['Gene']\n",
    "    ag = r['New_Gene']\n",
    "\n",
    "    if g in koo_ess_ann['Gene'].values:\n",
    "        koo_ess_ann.loc[koo_ess_ann['Gene'] == g, 'Gene'] = ag\n",
    "\n",
    "koo_ess_ann = pd.merge(koo_ess_ann, searchset, how='left', on='Gene')"
   ]
  },
  {
   "cell_type": "code",
   "execution_count": 150,
   "id": "5cfe6fa4",
   "metadata": {},
   "outputs": [],
   "source": [
    "# Now let's annotate the two additional libraries\n",
    "koo_kan = pd.read_csv('Koo_2017_KanR_Library.csv').drop(columns=['Unnamed: 3', 'Unnamed: 4']).rename(columns={'locus tag':'BSU_ID', 'gene':'Gene', 'BKK#':'BKE_ID'})\n",
    "koo_erm = pd.read_csv('Koo_2017_ErmR_Library.csv').drop(columns=['Unnamed: 3', 'Unnamed: 4']).rename(columns={'locus tag':'BSU_ID', 'gene':'Gene', 'BKK#':'BKE_ID'})"
   ]
  },
  {
   "cell_type": "code",
   "execution_count": 151,
   "id": "056d1dfa",
   "metadata": {},
   "outputs": [],
   "source": [
    "kk = pd.merge(koo_kan, searchset, how='left', on='Gene', indicator=True)\n",
    "ke = pd.merge(koo_erm, searchset, how='left', on='Gene', indicator=True)"
   ]
  },
  {
   "cell_type": "code",
   "execution_count": null,
   "id": "d45b6bf2",
   "metadata": {},
   "outputs": [],
   "source": [
    "# Not all were found :( fix it!\n",
    "kk_missing = kk[kk['_merge'] != 'both']\n",
    "ke_missing = ke[ke['_merge'] != 'both']"
   ]
  },
  {
   "cell_type": "code",
   "execution_count": null,
   "id": "0dc2aedb",
   "metadata": {},
   "outputs": [],
   "source": [
    "for h, r in kk_missing.iterrows():\n",
    "    g = r['Gene']\n",
    "\n",
    "    if fixset['synonyms'].str.contains(g).any():\n",
    "        koo_kan.loc[koo_kan['Gene'] == g, 'Gene'] = r['Gene'] = fixset[fixset['synonyms'].str.contains(g, na=False)]['Gene_Name'].values[0]\n",
    "    \n",
    "    if fixset['other_synonym'].str.contains(g).any():\n",
    "        koo_kan.loc[koo_kan['Gene'] == g, 'Gene'] = r['Gene'] = fixset[fixset['other_synonym'].str.contains(g, na=False)]['Gene_Name'].values[0]\n",
    "\n",
    "\n",
    "for h, r in ke_missing.iterrows():\n",
    "    g = r['Gene']\n",
    "\n",
    "    if fixset['synonyms'].str.contains(g).any():\n",
    "        koo_erm.loc[koo_erm['Gene'] == g, 'Gene'] = r['Gene'] = fixset[fixset['synonyms'].str.contains(g, na=False)]['Gene_Name'].values[0]\n",
    "    \n",
    "    if fixset['other_synonym'].str.contains(g).any():\n",
    "        koo_erm.loc[koo_erm['Gene'] == g, 'Gene'] = r['Gene'] = fixset[fixset['other_synonym'].str.contains(g, na=False)]['Gene_Name'].values[0]"
   ]
  },
  {
   "cell_type": "code",
   "execution_count": null,
   "id": "55ee309f",
   "metadata": {},
   "outputs": [],
   "source": [
    "# Fixed datasets (no missing values :) )\n",
    "kk_f = pd.merge(koo_kan, searchset, how='left', on='Gene')\n",
    "ke_f = pd.merge(koo_erm, searchset, how='left', on='Gene')"
   ]
  },
  {
   "cell_type": "code",
   "execution_count": null,
   "id": "66c474a1",
   "metadata": {},
   "outputs": [],
   "source": [
    "# Subtract the essential genes from these lists\n",
    "kk_f = kk_f[~kk_f['Gene'].isin(koo_ess_ann['Gene'])]\n",
    "ke_f = ke_f[~ke_f['Gene'].isin(koo_ess_ann['Gene'])]"
   ]
  },
  {
   "cell_type": "code",
   "execution_count": 260,
   "id": "1a639369",
   "metadata": {},
   "outputs": [],
   "source": [
    "#### FORMAT THE PETERS SET ####\n",
    "ps_ess = peters_ess[['Target Name', 'Target Other Names', 'Target BSU#', 'BMK Essential']].dropna().rename(columns={'Target Name':'Gene', 'Target Other Names':'Synonyms', 'Target BSU#':'BSU_ID', 'BMK Essential':'Essentiality_BMK'})\n"
   ]
  },
  {
   "cell_type": "code",
   "execution_count": 266,
   "id": "fc6f381d",
   "metadata": {},
   "outputs": [],
   "source": [
    "# Annotate the peters set with the subtiwiki IDs\n",
    "ps_ess.loc[ps_ess['Gene'] == 'dapI', 'Gene'] = 'dapL'\n",
    "ps_ess_t = pd.merge(ps_ess, searchset, how='left', on='Gene', indicator=True)\n",
    "ps_ess_missing = ps_ess_t[ps_ess_t['_merge'] != 'both']"
   ]
  },
  {
   "cell_type": "code",
   "execution_count": null,
   "id": "e2e30a92",
   "metadata": {},
   "outputs": [],
   "source": [
    "for h, r in ps_ess_missing.iterrows():\n",
    "    g = r['Gene']\n",
    "\n",
    "    if fixset['synonyms'].str.contains(g).any():\n",
    "        ps_ess.loc[ps_ess['Gene'] == g, 'Gene'] = r['Gene'] = fixset[fixset['synonyms'].str.contains(g, na=False)]['Gene_Name'].values[0]\n",
    "    \n",
    "    if fixset['other_synonym'].str.contains(g).any():\n",
    "        ps_ess.loc[ps_ess['Gene'] == g, 'Gene'] = r['Gene'] = fixset[fixset['other_synonym'].str.contains(g, na=False)]['Gene_Name'].values[0]"
   ]
  },
  {
   "cell_type": "code",
   "execution_count": 275,
   "id": "10090bc8",
   "metadata": {},
   "outputs": [],
   "source": [
    "# One still missing at the beginning -- manually remove it\n",
    "ps_ess = ps_ess[ps_ess['Gene'] != 'trnH']"
   ]
  },
  {
   "cell_type": "code",
   "execution_count": 277,
   "id": "2865b03c",
   "metadata": {},
   "outputs": [],
   "source": [
    "ps_ess_f = pd.merge(ps_ess, searchset, how='left', on='Gene', indicator=True)"
   ]
  },
  {
   "cell_type": "code",
   "execution_count": 355,
   "id": "46d317fd",
   "metadata": {},
   "outputs": [],
   "source": [
    "# Make our final sets for comparisons\n",
    "kb_ess_final = kb_ess_t1[['BG_ID', 'Gene', 'Uniprot_ID']]\n",
    "ps_ess_final = ps_ess_f[['BSU_ID_y', 'Gene', 'Uniprot_ID']].rename(columns={'BSU_ID_y':'BG_ID'})\n",
    "ps_ess_final = ps_ess_final.drop_duplicates()\n",
    "koo_ess_final = koo_ess_ann[['BSU_ID_y', 'Gene', 'Uniprot_ID']].rename(columns={'BSU_ID_y':'BG_ID'})"
   ]
  },
  {
   "cell_type": "code",
   "execution_count": 356,
   "id": "0557ccab",
   "metadata": {},
   "outputs": [],
   "source": [
    "# Now make a dataframe for the following combinations:\n",
    "# kb_ps, ps_koo, kb_koo, kb_ps_koo"
   ]
  },
  {
   "cell_type": "code",
   "execution_count": 357,
   "id": "629824d5",
   "metadata": {},
   "outputs": [
    {
     "name": "stderr",
     "output_type": "stream",
     "text": [
      "/var/folders/_4/d5mt3z054svbl3nmjccm34yc0000gn/T/ipykernel_64423/900227215.py:30: UserWarning: This figure includes Axes that are not compatible with tight_layout, so results might be incorrect.\n",
      "  plt.tight_layout()\n"
     ]
    },
    {
     "data": {
      "image/png": "[encoded data removed]",
      "text/plain": [
       "<Figure size 666.667x400 with 4 Axes>"
      ]
     },
     "metadata": {},
     "output_type": "display_data"
    }
   ],
   "source": [
    "# Plot in an upset plot\n",
    "from upsetplot import UpSet\n",
    "from upsetplot import from_memberships\n",
    "import matplotlib.pyplot as plt\n",
    "\n",
    "# Option A: Use BG_IDs\n",
    "set1 = set(kb_ess_final['Gene'])\n",
    "set2 = set(ps_ess_final['Gene'])\n",
    "set3 = set(koo_ess_final['Gene'])\n",
    "\n",
    "# Define each dataset’s name\n",
    "memberships = []\n",
    "\n",
    "all_ids = set1.union(set2).union(set3)\n",
    "for bgid in all_ids:\n",
    "    sources = []\n",
    "    if bgid in set1:\n",
    "        sources.append(\"Targeted Mutations\")\n",
    "    if bgid in set2:\n",
    "        sources.append(\"CRISPRi\")\n",
    "    if bgid in set3:\n",
    "        sources.append(\"KanR and ErmR Libraries\")\n",
    "    memberships.append(sources)\n",
    "\n",
    "# Convert to a proper format\n",
    "data = from_memberships(memberships)\n",
    "\n",
    "# Plot\n",
    "UpSet(data, subset_size='count', show_counts=True).plot()\n",
    "plt.tight_layout()\n",
    "\n",
    "pyplot.savefig('UpSetPlot_of_Shared_Essential_Genes_B_Subtilis.pdf', bbox_inches='tight', pad_inches=0.2)"
   ]
  },
  {
   "cell_type": "code",
   "execution_count": 360,
   "id": "2964992a",
   "metadata": {},
   "outputs": [
    {
     "name": "stderr",
     "output_type": "stream",
     "text": [
      "/var/folders/_4/d5mt3z054svbl3nmjccm34yc0000gn/T/ipykernel_64423/3754823514.py:2: SettingWithCopyWarning: \n",
      "A value is trying to be set on a copy of a slice from a DataFrame.\n",
      "Try using .loc[row_indexer,col_indexer] = value instead\n",
      "\n",
      "See the caveats in the documentation: https://pandas.pydata.org/pandas-docs/stable/user_guide/indexing.html#returning-a-view-versus-a-copy\n",
      "  kb_ess_final['Targeted_Mutations_Essential_B_Subtilis'] = 1\n"
     ]
    }
   ],
   "source": [
    "# For further analysis via OrthoDB, we first need to format the set of shared genes between sequences\n",
    "kb_ess_final['Targeted_Mutations_Essential_B_Subtilis'] = 1\n",
    "ps_ess_final['KanR_ErmR_Libraries_Essential_B_Subtilis'] = 1\n",
    "koo_ess_final['CRISPRi_Essential_B_Subtilis'] = 1"
   ]
  },
  {
   "cell_type": "code",
   "execution_count": 363,
   "id": "cb255c53",
   "metadata": {},
   "outputs": [],
   "source": [
    "t0 = pd.merge(kb_ess_final, ps_ess_final, on='Uniprot_ID', how='outer')\n",
    "t1 = pd.merge(t0, koo_ess_final, on='Uniprot_ID', how='outer')"
   ]
  },
  {
   "cell_type": "code",
   "execution_count": 365,
   "id": "a413e165",
   "metadata": {},
   "outputs": [],
   "source": [
    "t1[\"Targeted_Mutations_Essential_B_Subtilis\"] = t1[\"Targeted_Mutations_Essential_B_Subtilis\"].fillna(0).astype(int)\n",
    "t1[\"KanR_ErmR_Libraries_Essential_B_Subtilis\"] = t1[\"KanR_ErmR_Libraries_Essential_B_Subtilis\"].fillna(0).astype(int)\n",
    "t1[\"CRISPRi_Essential_B_Subtilis\"] = t1[\"CRISPRi_Essential_B_Subtilis\"].fillna(0).astype(int)"
   ]
  },
  {
   "cell_type": "code",
   "execution_count": 369,
   "id": "b1678989",
   "metadata": {},
   "outputs": [],
   "source": [
    "t1[\"BG_ID_final\"] = (\n",
    "    t1.get(\"BG_ID_x\")\n",
    "    .combine_first(t1.get(\"BG_ID_y\"))\n",
    "    .combine_first(t1.get(\"BG_ID\"))\n",
    ")\n",
    "\n",
    "t1[\"Gene_final\"] = (\n",
    "    t1.get(\"Gene_x\")\n",
    "    .combine_first(t1.get(\"Gene_y\"))\n",
    "    .combine_first(t1.get(\"Gene\"))\n",
    ")"
   ]
  },
  {
   "cell_type": "code",
   "execution_count": 380,
   "id": "33ef62ce",
   "metadata": {},
   "outputs": [],
   "source": [
    "merged = t1[['Uniprot_ID', 'Targeted_Mutations_Essential_B_Subtilis', 'KanR_ErmR_Libraries_Essential_B_Subtilis',\n",
    "   'CRISPRi_Essential_B_Subtilis', 'BG_ID_final', 'Gene_final']]"
   ]
  },
  {
   "cell_type": "code",
   "execution_count": 381,
   "id": "8a127b3a",
   "metadata": {},
   "outputs": [],
   "source": [
    "merged = merged.rename(columns={'BG_ID_final':'BG_ID', 'Gene_final':'Gene'})"
   ]
  },
  {
   "cell_type": "code",
   "execution_count": 382,
   "id": "4231020d",
   "metadata": {},
   "outputs": [
    {
     "data": {
      "text/html": [
       "<div>\n",
       "<style scoped>\n",
       "    .dataframe tbody tr th:only-of-type {\n",
       "        vertical-align: middle;\n",
       "    }\n",
       "\n",
       "    .dataframe tbody tr th {\n",
       "        vertical-align: top;\n",
       "    }\n",
       "\n",
       "    .dataframe thead th {\n",
       "        text-align: right;\n",
       "    }\n",
       "</style>\n",
       "<table border=\"1\" class=\"dataframe\">\n",
       "  <thead>\n",
       "    <tr style=\"text-align: right;\">\n",
       "      <th></th>\n",
       "      <th>Uniprot_ID</th>\n",
       "      <th>Targeted_Mutations_Essential_B_Subtilis</th>\n",
       "      <th>KanR_ErmR_Libraries_Essential_B_Subtilis</th>\n",
       "      <th>CRISPRi_Essential_B_Subtilis</th>\n",
       "      <th>BG_ID</th>\n",
       "      <th>Gene</th>\n",
       "    </tr>\n",
       "  </thead>\n",
       "  <tbody>\n",
       "    <tr>\n",
       "      <th>330</th>\n",
       "      <td>NaN</td>\n",
       "      <td>0</td>\n",
       "      <td>1</td>\n",
       "      <td>0</td>\n",
       "      <td>BG00095</td>\n",
       "      <td>scr</td>\n",
       "    </tr>\n",
       "    <tr>\n",
       "      <th>331</th>\n",
       "      <td>NaN</td>\n",
       "      <td>0</td>\n",
       "      <td>1</td>\n",
       "      <td>0</td>\n",
       "      <td>BG00045</td>\n",
       "      <td>rnpB</td>\n",
       "    </tr>\n",
       "  </tbody>\n",
       "</table>\n",
       "</div>"
      ],
      "text/plain": [
       "    Uniprot_ID  Targeted_Mutations_Essential_B_Subtilis  \\\n",
       "330        NaN                                        0   \n",
       "331        NaN                                        0   \n",
       "\n",
       "     KanR_ErmR_Libraries_Essential_B_Subtilis  CRISPRi_Essential_B_Subtilis  \\\n",
       "330                                         1                             0   \n",
       "331                                         1                             0   \n",
       "\n",
       "       BG_ID  Gene  \n",
       "330  BG00095   scr  \n",
       "331  BG00045  rnpB  "
      ]
     },
     "execution_count": 382,
     "metadata": {},
     "output_type": "execute_result"
    }
   ],
   "source": [
    "merged[merged['Uniprot_ID'].isna()]\n",
    "# NaN values are RNA-- hence no Uniprot IDs, so we're good to drop them!"
   ]
  },
  {
   "cell_type": "code",
   "execution_count": 394,
   "id": "d69f830d",
   "metadata": {},
   "outputs": [],
   "source": [
    "merged = merged[merged['Uniprot_ID'].isna() == False].reset_index(drop=True)\n",
    "merged.to_csv('./B_Subtilis_Essential_Genes_with_Uniprot_IDs.csv')"
   ]
  },
  {
   "cell_type": "code",
   "execution_count": 419,
   "id": "6fb5ba60",
   "metadata": {},
   "outputs": [
    {
     "name": "stdout",
     "output_type": "stream",
     "text": [
      "Index(['BSU_ID', 'Gene', 'BKE#'], dtype='object')\n",
      "Index(['BSU_ID', 'Gene', 'BKE_ID'], dtype='object')\n",
      "Index(['BSU_ID', 'Gene'], dtype='object')\n",
      "Index(['Gene', 'Synonyms', 'BSU_ID', 'Essentiality_BMK'], dtype='object')\n"
     ]
    }
   ],
   "source": [
    "# Now see that I could use the BSUs to pull from OrthoDB-- use the koo and peters sets to make a mega\n",
    "# list, then apply to our final formatted df\n",
    "df_list = []\n",
    "ks = koo_ess[['locus tag', 'gene']].rename(columns={'locus tag':'BSU_ID', 'gene':'Gene'})\n",
    "to_add = [koo_erm, koo_kan, ks, ps_ess]\n",
    "for dframe in to_add:\n",
    "    print(dframe.columns)\n",
    "    df_list.append(dframe[['BSU_ID', 'Gene']])\n",
    "\n",
    "full = pd.concat(df_list)"
   ]
  },
  {
   "cell_type": "code",
   "execution_count": 422,
   "id": "89937295",
   "metadata": {},
   "outputs": [],
   "source": [
    "full = full.drop_duplicates()"
   ]
  },
  {
   "cell_type": "code",
   "execution_count": 430,
   "id": "7c930c87",
   "metadata": {},
   "outputs": [],
   "source": [
    "pd.merge(merged, full, on='Gene').to_csv('../OrthoDB/essential_gene_sets/B_Subtilis_Essential_Genes_with_Uniprot_IDs_and_BSU.csv')"
   ]
  },
  {
   "cell_type": "code",
   "execution_count": null,
   "id": "6c10d53b",
   "metadata": {},
   "outputs": [],
   "source": []
  }
 ],
 "metadata": {
  "kernelspec": {
   "display_name": "OrthoDB Python API",
   "language": "python",
   "name": "odb"
  },
  "language_info": {
   "codemirror_mode": {
    "name": "ipython",
    "version": 3
   },
   "file_extension": ".py",
   "mimetype": "text/x-python",
   "name": "python",
   "nbconvert_exporter": "python",
   "pygments_lexer": "ipython3",
   "version": "3.13.5"
  }
 },
 "nbformat": 4,
 "nbformat_minor": 5
}
